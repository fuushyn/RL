{
  "cells": [
    {
      "cell_type": "markdown",
      "metadata": {
        "id": "view-in-github",
        "colab_type": "text"
      },
      "source": [
        "<a href=\"https://colab.research.google.com/github/fuushyn/RL/blob/main/ppo-half-cheetah.ipynb\" target=\"_parent\"><img src=\"https://colab.research.google.com/assets/colab-badge.svg\" alt=\"Open In Colab\"/></a>"
      ]
    },
    {
      "cell_type": "code",
      "execution_count": 1,
      "metadata": {
        "id": "j9dfWABRNCVm",
        "outputId": "2f8a9749-8b61-46dd-eab7-9c7b9dec1434",
        "colab": {
          "base_uri": "https://localhost:8080/"
        }
      },
      "outputs": [
        {
          "output_type": "stream",
          "name": "stdout",
          "text": [
            "Selecting previously unselected package libfontenc1:amd64.\n",
            "(Reading database ... 120874 files and directories currently installed.)\n",
            "Preparing to unpack .../0-libfontenc1_1%3a1.1.4-1build3_amd64.deb ...\n",
            "Unpacking libfontenc1:amd64 (1:1.1.4-1build3) ...\n",
            "Selecting previously unselected package libxfont2:amd64.\n",
            "Preparing to unpack .../1-libxfont2_1%3a2.0.5-1build1_amd64.deb ...\n",
            "Unpacking libxfont2:amd64 (1:2.0.5-1build1) ...\n",
            "Selecting previously unselected package libxkbfile1:amd64.\n",
            "Preparing to unpack .../2-libxkbfile1_1%3a1.1.0-1build3_amd64.deb ...\n",
            "Unpacking libxkbfile1:amd64 (1:1.1.0-1build3) ...\n",
            "Selecting previously unselected package x11-xkb-utils.\n",
            "Preparing to unpack .../3-x11-xkb-utils_7.7+5build4_amd64.deb ...\n",
            "Unpacking x11-xkb-utils (7.7+5build4) ...\n",
            "Selecting previously unselected package xfonts-encodings.\n",
            "Preparing to unpack .../4-xfonts-encodings_1%3a1.0.5-0ubuntu2_all.deb ...\n",
            "Unpacking xfonts-encodings (1:1.0.5-0ubuntu2) ...\n",
            "Selecting previously unselected package xfonts-utils.\n",
            "Preparing to unpack .../5-xfonts-utils_1%3a7.7+6build2_amd64.deb ...\n",
            "Unpacking xfonts-utils (1:7.7+6build2) ...\n",
            "Selecting previously unselected package xfonts-base.\n",
            "Preparing to unpack .../6-xfonts-base_1%3a1.0.5_all.deb ...\n",
            "Unpacking xfonts-base (1:1.0.5) ...\n",
            "Selecting previously unselected package xserver-common.\n",
            "Preparing to unpack .../7-xserver-common_2%3a21.1.4-2ubuntu1.7~22.04.2_all.deb ...\n",
            "Unpacking xserver-common (2:21.1.4-2ubuntu1.7~22.04.2) ...\n",
            "Selecting previously unselected package xvfb.\n",
            "Preparing to unpack .../8-xvfb_2%3a21.1.4-2ubuntu1.7~22.04.2_amd64.deb ...\n",
            "Unpacking xvfb (2:21.1.4-2ubuntu1.7~22.04.2) ...\n",
            "Setting up libfontenc1:amd64 (1:1.1.4-1build3) ...\n",
            "Setting up xfonts-encodings (1:1.0.5-0ubuntu2) ...\n",
            "Setting up libxkbfile1:amd64 (1:1.1.0-1build3) ...\n",
            "Setting up libxfont2:amd64 (1:2.0.5-1build1) ...\n",
            "Setting up x11-xkb-utils (7.7+5build4) ...\n",
            "Setting up xfonts-utils (1:7.7+6build2) ...\n",
            "Setting up xfonts-base (1:1.0.5) ...\n",
            "Setting up xserver-common (2:21.1.4-2ubuntu1.7~22.04.2) ...\n",
            "Setting up xvfb (2:21.1.4-2ubuntu1.7~22.04.2) ...\n",
            "Processing triggers for man-db (2.10.2-1) ...\n",
            "Processing triggers for fontconfig (2.13.1-4.2ubuntu5) ...\n",
            "Processing triggers for libc-bin (2.35-0ubuntu3.1) ...\n",
            "/sbin/ldconfig.real: /usr/local/lib/libtbbbind.so.3 is not a symbolic link\n",
            "\n",
            "/sbin/ldconfig.real: /usr/local/lib/libtbb.so.12 is not a symbolic link\n",
            "\n",
            "/sbin/ldconfig.real: /usr/local/lib/libtbbmalloc.so.2 is not a symbolic link\n",
            "\n",
            "/sbin/ldconfig.real: /usr/local/lib/libtbbbind_2_0.so.3 is not a symbolic link\n",
            "\n",
            "/sbin/ldconfig.real: /usr/local/lib/libtbbbind_2_5.so.3 is not a symbolic link\n",
            "\n",
            "/sbin/ldconfig.real: /usr/local/lib/libtbbmalloc_proxy.so.2 is not a symbolic link\n",
            "\n",
            "\u001b[2K     \u001b[90m━━━━━━━━━━━━━━━━━━━━━━━━━━━━━━━━━━━━━━━━\u001b[0m \u001b[32m953.9/953.9 kB\u001b[0m \u001b[31m15.9 MB/s\u001b[0m eta \u001b[36m0:00:00\u001b[0m\n",
            "\u001b[2K     \u001b[90m━━━━━━━━━━━━━━━━━━━━━━━━━━━━━━━━━━━━━━━━\u001b[0m \u001b[32m5.3/5.3 MB\u001b[0m \u001b[31m15.7 MB/s\u001b[0m eta \u001b[36m0:00:00\u001b[0m\n",
            "\u001b[2K     \u001b[90m━━━━━━━━━━━━━━━━━━━━━━━━━━━━━━━━━━━━━━━━\u001b[0m \u001b[32m208.2/208.2 kB\u001b[0m \u001b[31m26.8 MB/s\u001b[0m eta \u001b[36m0:00:00\u001b[0m\n",
            "\u001b[?25hStarting virtual X frame buffer: Xvfb.\n"
          ]
        }
      ],
      "source": [
        "import sys, os\n",
        "if 'google.colab' in sys.modules and not os.path.exists('.setup_complete'):\n",
        "    !wget -q https://raw.githubusercontent.com/yandexdataschool/Practical_RL/master/setup_colab.sh -O- | bash\n",
        "\n",
        "    !wget -q https://raw.githubusercontent.com/yandexdataschool/Practical_RL/master/week09_policy_II/mujoco_wrappers.py\n",
        "\n",
        "    !pip -q install gymnasium[mujoco]\n",
        "\n",
        "    !touch .setup_complete\n",
        "\n",
        "# This code creates a virtual display to draw game images on.\n",
        "# It will have no effect if your machine has a monitor.\n",
        "if type(os.environ.get(\"DISPLAY\")) is not str or len(os.environ.get(\"DISPLAY\")) == 0:\n",
        "    !bash ../xvfb start\n",
        "    os.environ['DISPLAY'] = ':1'"
      ]
    },
    {
      "cell_type": "markdown",
      "metadata": {
        "id": "WI0kqjVINCVt"
      },
      "source": [
        "# Implementing Proximal Policy Optimization\n",
        "\n",
        "\n",
        "In this notebook you will be implementing Proximal Policy Optimization algorithm,\n",
        "scaled up version of which was used to train [OpenAI Five](https://openai.com/blog/openai-five/)\n",
        "to [win](https://openai.com/blog/how-to-train-your-openai-five/) against the\n",
        "world champions in Dota 2.\n",
        "You will be solving a continuous control environment on which it may be easier and faster\n",
        "to train an agent, however note that PPO here may not be the best algorithm as, for example,\n",
        "Deep Deterministic Policy Gradient and Soft Actor Critic may be more suited\n",
        "for continuous control environments."
      ]
    },
    {
      "cell_type": "code",
      "execution_count": 2,
      "metadata": {
        "id": "MZeKC7aO4RIC"
      },
      "outputs": [],
      "source": [
        "from tqdm import tqdm\n",
        "from sklearn.metrics import r2_score"
      ]
    },
    {
      "cell_type": "markdown",
      "metadata": {
        "id": "Iod_fZUFNCVw"
      },
      "source": [
        "The overall structure of the code is similar to the one in the A2C optional homework, but don't worry if you haven't done it, it should be relatively easy to figure it out.\n",
        "First, we will create an instance of the environment.\n",
        "We will normalize the observations and rewards, but before that you will need a wrapper that will\n",
        "write summaries, mainly, the total reward during an episode. You can either use one for `TensorBoard`\n",
        "implemented in `atari_wrappers.py` file from the optional A2C homework, or implement your own."
      ]
    },
    {
      "cell_type": "code",
      "execution_count": 3,
      "metadata": {
        "id": "Y2N76WIRNCVx",
        "outputId": "46943d9d-fe81-4a87-fce2-a1419ec0d650",
        "colab": {
          "base_uri": "https://localhost:8080/"
        }
      },
      "outputs": [
        {
          "output_type": "stream",
          "name": "stdout",
          "text": [
            "observation space:  Box(-inf, inf, (17,), float64) \n",
            "observations: [ 0.05120958  0.06686557  0.04167429  0.05008342 -0.03926945  0.07402215\n",
            " -0.09112828 -0.05497069 -0.02267556 -0.03852021 -0.07157199 -0.00111826\n",
            " -0.02976392  0.02475283 -0.03575524  0.14583936  0.07236807]\n",
            "action space:  Box(-1.0, 1.0, (6,), float32) \n",
            "action_sample:  [ 0.6474501   0.424277   -0.88217676 -0.25735676  0.7398369   0.9900931 ]\n"
          ]
        }
      ],
      "source": [
        "import gymnasium as gym\n",
        "\n",
        "env = gym.make(\"HalfCheetah-v4\", render_mode=\"rgb_array\")\n",
        "print(\"observation space: \", env.observation_space,\n",
        "      \"\\nobservations:\", env.reset()[0])\n",
        "print(\"action space: \", env.action_space,\n",
        "      \"\\naction_sample: \", env.action_space.sample())"
      ]
    },
    {
      "cell_type": "code",
      "execution_count": 4,
      "metadata": {
        "id": "5VX_PxjcU5s1",
        "outputId": "a6090e5b-8d78-41a8-a358-971308401d6e",
        "colab": {
          "base_uri": "https://localhost:8080/",
          "height": 453
        }
      },
      "outputs": [
        {
          "output_type": "execute_result",
          "data": {
            "text/plain": [
              "<matplotlib.image.AxesImage at 0x7b8f73e57160>"
            ]
          },
          "metadata": {},
          "execution_count": 4
        },
        {
          "output_type": "display_data",
          "data": {
            "text/plain": [
              "<Figure size 640x480 with 1 Axes>"
            ],
            "image/png": "[encoded data removed]"
          },
          "metadata": {}
        }
      ],
      "source": [
        "import matplotlib.pyplot as plt\n",
        "plt.imshow(env.render())"
      ]
    },
    {
      "cell_type": "code",
      "execution_count": 5,
      "metadata": {
        "id": "_au8nSY479qw"
      },
      "outputs": [],
      "source": [
        "import numpy as np\n",
        "\n",
        "class Summaries(gym.Wrapper):\n",
        "    \"\"\" Wrapper to write summaries. \"\"\"\n",
        "    def __init__(self, env):\n",
        "        super().__init__(env)\n",
        "        self.episode_counter = 0\n",
        "        self.current_step_var = 0\n",
        "\n",
        "        self.episode_rewards = []\n",
        "        self.episode_lens = []\n",
        "\n",
        "        self.current_reward = 0\n",
        "        self.current_len = 0\n",
        "\n",
        "    def step(self, action):\n",
        "        obs, rew, terminated, truncated, info = self.env.step(action)\n",
        "        # rew = min(100, max(rew, -10))\n",
        "        self.current_reward += rew\n",
        "        self.current_len += 1\n",
        "        self.current_step_var += 1\n",
        "\n",
        "        if terminated or truncated:\n",
        "            self.episode_rewards.append((self.current_step_var, self.current_reward))\n",
        "            self.episode_lens.append((self.current_step_var, self.current_len))\n",
        "\n",
        "        return obs, rew, terminated, truncated, info\n",
        "\n",
        "    def reset(self, **kwargs):\n",
        "        self.episode_counter += 1\n",
        "\n",
        "        self.current_reward = 0\n",
        "        self.current_len = 0\n",
        "\n",
        "        return self.env.reset(**kwargs)\n"
      ]
    },
    {
      "cell_type": "markdown",
      "metadata": {
        "id": "JVom_S9yNCVz"
      },
      "source": [
        "The normalization wrapper will subtract running mean from observations and rewards and divide\n",
        "the resulting quantities by the  running variances."
      ]
    },
    {
      "cell_type": "code",
      "source": [
        "# import tensorflow as tf\n",
        "import torch\n",
        "\n",
        "from torch import nn\n",
        "from torch.nn import functional as F\n",
        "import torch\n",
        "\n",
        "\n",
        "if torch.cuda.is_available():\n",
        "    # Move the entire model to the GPU\n",
        "    device = 'cuda'\n"
      ],
      "metadata": {
        "id": "FUAtpXAokgKh"
      },
      "execution_count": 6,
      "outputs": []
    },
    {
      "cell_type": "code",
      "execution_count": 7,
      "metadata": {
        "id": "lxevKC-FNCVz",
        "colab": {
          "base_uri": "https://localhost:8080/"
        },
        "outputId": "c52548e7-bcd7-4f73-de8c-6ec8d3934ee3"
      },
      "outputs": [
        {
          "output_type": "execute_result",
          "data": {
            "text/plain": [
              "(array([-4.59893418e-04, -9.14117812e-04, -9.62360453e-04,  6.25252052e-04,\n",
              "         8.22630939e-04,  2.13201754e-04,  4.58464641e-04,  8.72379386e-05,\n",
              "        -1.25528645e-03, -6.22005395e-04,  4.13214942e-05, -2.26441131e-03,\n",
              "        -2.18717453e-04, -1.23623025e-03, -7.30239312e-04, -5.43400491e-04,\n",
              "        -3.16110471e-04]),\n",
              " {})"
            ]
          },
          "metadata": {},
          "execution_count": 7
        }
      ],
      "source": [
        "from mujoco_wrappers import Normalize\n",
        "\n",
        "\n",
        "\n",
        "\n",
        "env = Normalize(Summaries(gym.make(\"HalfCheetah-v4\", render_mode=\"rgb_array\")))\n",
        "env.reset(seed=0)\n",
        "\n",
        "\n"
      ]
    },
    {
      "cell_type": "markdown",
      "metadata": {
        "id": "_9lf2Z8bNCV0"
      },
      "source": [
        "Next, you will need to define a model for training. We suggest that you use two separate networks: one for policy\n",
        "and another for value function. Each network should be a 3-layer MLP with 64 hidden units, $\\mathrm{tanh}$\n",
        "activation function.\n",
        "\n",
        "Our policy distribution is going to be multivariate normal with diagonal covariance.\n",
        "The network from above will predict the mean, and the covariance should be represented by a single\n",
        "(learned) vector of size 6 (corresponding to the dimensionality of the action space from above). Or you can also predict the variance using your model. You should take the exponent of that values to always have a non-negative quantity.\n",
        "\n",
        "Overall the model should return three things: predicted mean of the distribution, variance vector,\n",
        "value function."
      ]
    },
    {
      "cell_type": "code",
      "source": [],
      "metadata": {
        "id": "TXp6SvxWiAHw"
      },
      "execution_count": null,
      "outputs": []
    },
    {
      "cell_type": "code",
      "execution_count": 16,
      "metadata": {
        "id": "OwwLcUApNCV0"
      },
      "outputs": [],
      "source": [
        "def layer_init(layer, std=np.sqrt(2), bias_const=0.0):\n",
        "    torch.nn.init.orthogonal_(layer.weight, std)\n",
        "    torch.nn.init.constant_(layer.bias, bias_const)\n",
        "    return layer\n",
        "\n",
        "class PolicyModel(nn. Module):\n",
        "    def __init__(self):\n",
        "        super().__init__()\n",
        "        self.h = 64\n",
        "        state_shape = env.observation_space.shape[0]\n",
        "        action_shape = env.action_space.shape[0]\n",
        "\n",
        "        self.linear1 = nn.Linear(state_shape, 64)\n",
        "        self.linear2 = nn.Linear(64, 64)\n",
        "        self.linear3 = nn.Linear(64, 2*action_shape)\n",
        "\n",
        "        self.linear4 = nn.Linear(state_shape, 64)\n",
        "        self.linear5 = nn.Linear(64, 64)\n",
        "        self.linear6 = nn.Linear(64, 1)\n",
        "\n",
        "\n",
        "        self.tanh1 = nn.Tanh()\n",
        "        self.tanh2 = nn.Tanh()\n",
        "        self.tanh3 = nn.Tanh()\n",
        "        self.tanh4 = nn.Tanh()\n",
        "\n",
        "        self.policy_model = nn.Sequential(\n",
        "            layer_init(self.linear1),\n",
        "            self.tanh1,\n",
        "            layer_init(self.linear2),\n",
        "            self.tanh2,\n",
        "            layer_init(self.linear3, std=0.01)\n",
        "        )\n",
        "\n",
        "        self.value_model = nn.Sequential(\n",
        "            layer_init(self.linear4),\n",
        "            self.tanh3,\n",
        "            layer_init(self.linear5),\n",
        "            self.tanh4,\n",
        "            layer_init(self.linear6, std=1.0)\n",
        "        )\n",
        "\n",
        "        # self.actor_logstd = nn.Parameter(torch.zeros(1, action_shape), requires_grad=True)\n",
        "\n",
        "    def get_policy(self, x):\n",
        "        x= torch.tensor(x, dtype=torch.float32, device =device)\n",
        "        self.policy_model.to(device)\n",
        "        means = self.policy_model(x)[:, :6]\n",
        "        log_std = self.policy_model(x)[:,6:]\n",
        "\n",
        "        action_std = torch.exp(log_std)\n",
        "\n",
        "        return means, action_std\n",
        "\n",
        "    def get_value(self, x):\n",
        "        x= torch.tensor(x, dtype=torch.float32, device =device)\n",
        "        self.value_model.to(device)\n",
        "        out = self.value_model(x.float())\n",
        "        return out\n",
        "\n",
        "    def forward(self, x):\n",
        "        x= torch.tensor(x, dtype=torch.float32, device =device)\n",
        "        self.policy_model.to(device)\n",
        "        self.value_model.to(device)\n",
        "        policy = self.get_policy(x)\n",
        "        value = self.get_value(x)\n",
        "\n",
        "        return policy, value"
      ]
    },
    {
      "cell_type": "markdown",
      "metadata": {
        "id": "YI6d9Xq_NCV1"
      },
      "source": [
        "This model will be wrapped by a `Policy`. The policy can work in two modes, but in either case\n",
        "it is going to return dictionary with string-type keys. The first mode is when the policy is\n",
        "used to sample actions for a trajectory which will later be used for training. In this case\n",
        "the flag `training` passed to `act` method is `False` and the method should return\n",
        "a `dict` with the following keys:\n",
        "\n",
        "* `\"actions\"`: actions to pass to the environment\n",
        "* `\"log_probs\"`: log-probabilities of sampled actions\n",
        "* `\"values\"`: value function $V^\\pi(s)$ predictions.\n",
        "\n",
        "We don't need to use the values under these keys for training, so all of them should be of type `np.ndarray`.\n",
        "\n",
        "When `training` is `True`, the model is training on a given batch of observations. In this\n",
        "case it should return a `dict` with the following keys\n",
        "\n",
        "* `\"distribution\"`: an instance of multivariate normal distribution (`torch.distributions.MultivariateNormal` or `tf.distributions.MultivariateNormalDiag`)\n",
        "* `\"values\"`: value function $V^\\pi(s)$ prediction.\n",
        "\n",
        "The distinction about the modes comes into play depending on where the policy is used: if it is called from `EnvRunner`,\n",
        "the `training` flag is `False`, if it is called from `PPO`, the `training` flag is `True`. These classed\n",
        "will be described below."
      ]
    },
    {
      "cell_type": "code",
      "execution_count": 17,
      "metadata": {
        "id": "C54tGZahXbSa"
      },
      "outputs": [],
      "source": [
        "from torch.distributions.normal import Normal\n",
        "from torch.distributions.multivariate_normal import MultivariateNormal\n",
        "\n",
        "class Policy:\n",
        "    def __init__(self, model):\n",
        "        self.model = model\n",
        "\n",
        "    def act(self, inputs, training=False):\n",
        "        inputs = torch.tensor(inputs)\n",
        "        if inputs.ndim < 2:\n",
        "            inputs = inputs.unsqueeze(0)\n",
        "        inputs = inputs.cuda()\n",
        "\n",
        "        batch_size = inputs.shape[0]\n",
        "\n",
        "        # < insert your code here >\n",
        "        means, std = self.model.get_policy(inputs)\n",
        "        probs = Normal(means, std)\n",
        "        actions = probs.sample()\n",
        "        log_probs = probs.log_prob(actions).sum(-1)\n",
        "\n",
        "        values = self.model.get_value(inputs)\n",
        "\n",
        "        if not training:\n",
        "            return {'actions': actions.cpu().numpy().tolist()[0],\n",
        "                    'log_probs': log_probs[0].detach().cpu().numpy(),\n",
        "                    'values': values[0].detach().cpu().numpy()}\n",
        "        else:\n",
        "            return {'distribution': probs, 'values': values}"
      ]
    },
    {
      "cell_type": "markdown",
      "metadata": {
        "id": "-kML-jSsNCV2"
      },
      "source": [
        "We will use `EnvRunner` to perform interactions with an environment with a policy for a fixed number of timesteps. Calling `.get_next()` on a runner will return a trajectory &mdash; dictionary\n",
        "containing keys\n",
        "\n",
        "* `\"observations\"`\n",
        "* `\"rewards\"`\n",
        "* `\"resets\"`\n",
        "* `\"actions\"`\n",
        "* all other keys that you defined in `Policy`,\n",
        "\n",
        "under each of these keys there is a `np.ndarray` of specified length $T$ &mdash; the size of partial trajectory.\n",
        "\n",
        "Additionally, before returning a trajectory this runner can apply a list of transformations.\n",
        "Each transformation is simply a callable that should modify passed trajectory in-place."
      ]
    },
    {
      "cell_type": "code",
      "execution_count": 18,
      "metadata": {
        "id": "5LeiuohcNCV3"
      },
      "outputs": [],
      "source": [
        "class AsArray:\n",
        "    \"\"\"\n",
        "    Converts lists of interactions to ndarray.\n",
        "    \"\"\"\n",
        "    def __call__(self, trajectory):\n",
        "        # Modify trajectory inplace.\n",
        "        for k, v in filter(lambda kv: kv[0] != \"state\", trajectory.items()):\n",
        "            trajectory[k] = np.asarray(v)"
      ]
    },
    {
      "cell_type": "code",
      "execution_count": 19,
      "metadata": {
        "id": "ATjw6xx1U5s2"
      },
      "outputs": [],
      "source": [
        "\"\"\" RL env runner \"\"\"\n",
        "from collections import defaultdict\n",
        "\n",
        "import numpy as np\n",
        "\n",
        "\n",
        "class EnvRunner:\n",
        "    \"\"\" Reinforcement learning runner in an environment with given policy \"\"\"\n",
        "\n",
        "    def __init__(self, env, policy, nsteps, transforms=None, step_var=None):\n",
        "        self.env = env\n",
        "        self.policy = policy\n",
        "        self.nsteps = nsteps\n",
        "        self.transforms = transforms or []\n",
        "        self.step_var = step_var if step_var is not None else 0\n",
        "        self.state = {\"latest_observation\": self.env.reset()[0]}\n",
        "\n",
        "    @property\n",
        "    def nenvs(self):\n",
        "        \"\"\" Returns number of batched envs or `None` if env is not batched \"\"\"\n",
        "        return getattr(self.env.unwrapped, \"nenvs\", None)\n",
        "\n",
        "    def reset(self, **kwargs):\n",
        "        \"\"\" Resets env and runner states. \"\"\"\n",
        "        self.state[\"latest_observation\"], info = self.env.reset(**kwargs)\n",
        "        self.policy.reset()\n",
        "\n",
        "    def get_next(self):\n",
        "        \"\"\" Runs the agent in the environment.  \"\"\"\n",
        "        trajectory = defaultdict(list, {\"actions\": []})\n",
        "        observations = []\n",
        "        rewards = []\n",
        "        resets = []\n",
        "        self.state[\"env_steps\"] = self.nsteps\n",
        "\n",
        "        for i in range(self.nsteps):\n",
        "            observations.append(self.state[\"latest_observation\"])\n",
        "            act = self.policy.act(self.state[\"latest_observation\"])\n",
        "            if \"actions\" not in act:\n",
        "                raise ValueError(\"result of policy.act must contain 'actions' \"\n",
        "                                 f\"but has keys {list(act.keys())}\")\n",
        "            for key, val in act.items():\n",
        "                trajectory[key].append(val)\n",
        "\n",
        "            obs, rew, terminated, truncated, _ = self.env.step(trajectory[\"actions\"][-1])\n",
        "            done = np.logical_or(terminated, truncated)\n",
        "            self.state[\"latest_observation\"] = obs\n",
        "            rewards.append(rew)\n",
        "            resets.append(done)\n",
        "            self.step_var += self.nenvs or 1\n",
        "\n",
        "            # Only reset if the env is not batched. Batched envs should\n",
        "            # auto-reset.\n",
        "            if not self.nenvs and np.all(done):\n",
        "                self.state[\"env_steps\"] = i + 1\n",
        "                self.state[\"latest_observation\"] = self.env.reset()[0]\n",
        "\n",
        "        trajectory.update(\n",
        "            observations=observations,\n",
        "            rewards=rewards,\n",
        "            resets=resets)\n",
        "        trajectory[\"state\"] = self.state\n",
        "\n",
        "        for transform in self.transforms:\n",
        "            transform(trajectory)\n",
        "        return trajectory"
      ]
    },
    {
      "cell_type": "code",
      "execution_count": 20,
      "metadata": {
        "id": "wNzPNxKLNCV4",
        "colab": {
          "base_uri": "https://localhost:8080/"
        },
        "outputId": "45880475-9f95-47d1-8430-4bc01026d988"
      },
      "outputs": [
        {
          "output_type": "execute_result",
          "data": {
            "text/plain": [
              "{'actions': (3, 6),\n",
              " 'values': (3,),\n",
              " 'observations': (3, 17),\n",
              " 'rewards': (3,),\n",
              " 'resets': (3,)}"
            ]
          },
          "metadata": {},
          "execution_count": 20
        }
      ],
      "source": [
        "import numpy as np\n",
        "\n",
        "class DummyPolicy:\n",
        "    def act(self, inputs, training=False):\n",
        "        assert not training\n",
        "        return {\"actions\": np.random.randn(6), \"values\": np.nan}\n",
        "\n",
        "runner = EnvRunner(env, DummyPolicy(), 3,\n",
        "                   transforms=[AsArray()])\n",
        "trajectory = runner.get_next()\n",
        "\n",
        "{k: v.shape for k, v in trajectory.items() if k != \"state\"}"
      ]
    },
    {
      "cell_type": "markdown",
      "metadata": {
        "id": "NyhcvAMZNCV5"
      },
      "source": [
        "You will need to implement the following two transformations.\n",
        "\n",
        "The first is `GAE` that implements [Generalized Advantage Estimator](https://arxiv.org/abs/1506.02438).\n",
        "In it you should add two keys to the trajectory: `\"advantages\"` and `\"value_targets\"`. In GAE the advantages\n",
        "$A_t^{\\mathrm{GAE}(\\gamma,\\lambda)}$ are essentially defined as the exponential\n",
        "moving average with parameter $\\lambda$ of the regular advantages\n",
        "$\\hat{A}^{(T)}(s_t) = \\sum_{l=0}^{T-1-t} \\gamma^l r_{t+l} + \\gamma^{T} V^\\pi(s_{T}) - V^\\pi(s_t)$.\n",
        "The exact formula for the computation is the following\n",
        "\n",
        "$$\n",
        "A_{t}^{\\mathrm{GAE}(\\gamma,\\lambda)} = \\sum_{l=0}^{T-1-t} (\\gamma\\lambda)^l\\delta_{t + l}^V, \\, t \\in [0, T)\n",
        "$$\n",
        "where $\\delta_{t+l}^V = r_{t+l} + \\gamma V^\\pi(s_{t+l+1}) - V^\\pi(s_{t+l})$. You can look at the\n",
        "derivation (formulas 11-16) in the paper. Don't forget to reset the summation on terminal\n",
        "states as determined by the flags `trajectory[\"resets\"]`. You can use `trajectory[\"values\"]`\n",
        "to get values of all observations except the most recent which is stored under\n",
        " `trajectory[\"state\"][\"latest_observation\"]`. For this observation you will need to call the policy\n",
        " to get the value prediction.\n",
        "\n",
        "Once you computed the advantages, you can get the targets for training the value function by adding\n",
        "back values:\n",
        "$$\n",
        "\\hat{V}(s_{t+l}) = A_{t+l}^{\\mathrm{GAE}(\\gamma,\\lambda)} + V(s_{t + l}),\n",
        "$$\n",
        "where $\\hat{V}$ is a tensor of value targets that are used to train the value function."
      ]
    },
    {
      "cell_type": "code",
      "source": [
        "trajectory[\"state\"][\"latest_observation\"]"
      ],
      "metadata": {
        "id": "uAi1QoCnc-TK",
        "colab": {
          "base_uri": "https://localhost:8080/"
        },
        "outputId": "572b5c18-2edc-4890-a2bf-6bfa778f8e90"
      },
      "execution_count": 21,
      "outputs": [
        {
          "output_type": "execute_result",
          "data": {
            "text/plain": [
              "array([-0.08344209,  1.48405002, -1.17699363, -0.54864352,  1.62714302,\n",
              "       -1.40082689, -1.62625738,  0.45127382,  0.74700313, -1.63678904,\n",
              "       -0.39901155,  0.11314826, -0.53797648,  2.33731739,  1.24671656,\n",
              "       -1.23357274, -0.94526799])"
            ]
          },
          "metadata": {},
          "execution_count": 21
        }
      ]
    },
    {
      "cell_type": "code",
      "execution_count": 22,
      "metadata": {
        "id": "AC5rUuiKNCV6"
      },
      "outputs": [],
      "source": [
        "import os\n",
        "class GAE:\n",
        "    \"\"\" Generalized Advantage Estimator. \"\"\"\n",
        "    def __init__(self, policy, gamma=0.99, lambda_=0.95):\n",
        "        self.policy = policy\n",
        "        self.gamma = gamma\n",
        "        self.lambda_ = lambda_\n",
        "\n",
        "    def __call__(self, trajectory):\n",
        "        gamma = self.gamma\n",
        "        lambda_ = self.lambda_\n",
        "\n",
        "        # < insert your code here >\n",
        "        s_T = trajectory[\"state\"][\"latest_observation\"]\n",
        "        T = len(trajectory['values'])\n",
        "        v_T = self.policy.act([s_T])['values']\n",
        "\n",
        "\n",
        "        values = trajectory['values']\n",
        "        values =np.squeeze(values)\n",
        "\n",
        "\n",
        "        values_ = trajectory['values']\n",
        "        values_ =np.squeeze(values_)\n",
        "        values_ = np.append(values_, v_T)\n",
        "        values_ = values_[1:]\n",
        "\n",
        "        deltas = self.gamma*values_*(1-trajectory['resets']) + trajectory['rewards'] - values\n",
        "\n",
        "\n",
        "        A = [deltas[-1]]\n",
        "        for i in range(1, len(values)):\n",
        "            if trajectory['resets'][T-i-1]:  # Notice the indexing change here\n",
        "                A.append(deltas[T-i-1])  # Use the direct index here\n",
        "            else:\n",
        "                A.append(A[-1]*self.gamma*self.lambda_ + deltas[T-i-1])\n",
        "        A.reverse()\n",
        "\n",
        "        A = np.array(A)\n",
        "        v_ = A+ values\n",
        "\n",
        "        trajectory['advantages'] = A\n",
        "        trajectory['value_targets'] = v_\n",
        "        return trajectory\n"
      ]
    },
    {
      "cell_type": "code",
      "execution_count": 23,
      "metadata": {
        "id": "lV0Z-k2vU5s2",
        "colab": {
          "base_uri": "https://localhost:8080/"
        },
        "outputId": "6657bfb4-3df6-4468-cf1a-e119cb360464"
      },
      "outputs": [
        {
          "output_type": "stream",
          "name": "stdout",
          "text": [
            "  % Total    % Received % Xferd  Average Speed   Time    Time     Time  Current\n",
            "                                 Dload  Upload   Total   Spent    Left  Speed\n",
            "100 98432  100 98432    0     0   226k      0 --:--:-- --:--:-- --:--:--  226k\n",
            "  % Total    % Received % Xferd  Average Speed   Time    Time     Time  Current\n",
            "                                 Dload  Upload   Total   Spent    Left  Speed\n",
            "100  8320  100  8320    0     0  21522      0 --:--:-- --:--:-- --:--:-- 21498\n",
            "  % Total    % Received % Xferd  Average Speed   Time    Time     Time  Current\n",
            "                                 Dload  Upload   Total   Spent    Left  Speed\n",
            "100  8320  100  8320    0     0  21472      0 --:--:-- --:--:-- --:--:-- 21498\n",
            "  % Total    % Received % Xferd  Average Speed   Time    Time     Time  Current\n",
            "                                 Dload  Upload   Total   Spent    Left  Speed\n",
            "100  272k  100  272k    0     0   567k      0 --:--:-- --:--:-- --:--:--  566k\n",
            "  % Total    % Received % Xferd  Average Speed   Time    Time     Time  Current\n",
            "                                 Dload  Upload   Total   Spent    Left  Speed\n",
            "100 16512  100 16512    0     0  40662      0 --:--:-- --:--:-- --:--:-- 40770\n",
            "  % Total    % Received % Xferd  Average Speed   Time    Time     Time  Current\n",
            "                                 Dload  Upload   Total   Spent    Left  Speed\n",
            "100  2176  100  2176    0     0   5376      0 --:--:-- --:--:-- --:--:--  5372\n",
            "  % Total    % Received % Xferd  Average Speed   Time    Time     Time  Current\n",
            "                                 Dload  Upload   Total   Spent    Left  Speed\n",
            "100   264  100   264    0     0    607      0 --:--:-- --:--:-- --:--:--   608\n",
            "  % Total    % Received % Xferd  Average Speed   Time    Time     Time  Current\n",
            "                                 Dload  Upload   Total   Spent    Left  Speed\n",
            "100  8320  100  8320    0     0  20607      0 --:--:-- --:--:-- --:--:-- 20594\n",
            "  % Total    % Received % Xferd  Average Speed   Time    Time     Time  Current\n",
            "                                 Dload  Upload   Total   Spent    Left  Speed\n",
            "100  8320  100  8320    0     0  14267      0 --:--:-- --:--:-- --:--:-- 14271\n",
            "  % Total    % Received % Xferd  Average Speed   Time    Time     Time  Current\n",
            "                                 Dload  Upload   Total   Spent    Left  Speed\n",
            "100 51137  100 51137    0     0   101k      0 --:--:-- --:--:-- --:--:--  101k\n",
            "0\n",
            "0\n",
            "It's all good!\n"
          ]
        },
        {
          "output_type": "stream",
          "name": "stderr",
          "text": [
            "<ipython-input-16-c8cd4bb590e9>:46: UserWarning: To copy construct from a tensor, it is recommended to use sourceTensor.clone().detach() or sourceTensor.clone().detach().requires_grad_(True), rather than torch.tensor(sourceTensor).\n",
            "  x= torch.tensor(x, dtype=torch.float32, device =device)\n",
            "<ipython-input-16-c8cd4bb590e9>:56: UserWarning: To copy construct from a tensor, it is recommended to use sourceTensor.clone().detach() or sourceTensor.clone().detach().requires_grad_(True), rather than torch.tensor(sourceTensor).\n",
            "  x= torch.tensor(x, dtype=torch.float32, device =device)\n"
          ]
        }
      ],
      "source": [
        "def test_gae():\n",
        "    !curl -O https://raw.githubusercontent.com/yandexdataschool/Practical_RL/master/week09_policy_II/test_ppo/actions.npy\n",
        "    !curl -O https://raw.githubusercontent.com/yandexdataschool/Practical_RL/master/week09_policy_II/test_ppo/log_probs.npy\n",
        "    !curl -O https://raw.githubusercontent.com/yandexdataschool/Practical_RL/master/week09_policy_II/test_ppo/values.npy\n",
        "    !curl -O https://raw.githubusercontent.com/yandexdataschool/Practical_RL/master/week09_policy_II/test_ppo/observations.npy\n",
        "    !curl -O https://raw.githubusercontent.com/yandexdataschool/Practical_RL/master/week09_policy_II/test_ppo/rewards.npy\n",
        "    !curl -O https://raw.githubusercontent.com/yandexdataschool/Practical_RL/master/week09_policy_II/test_ppo/resets.npy\n",
        "    !curl -O https://raw.githubusercontent.com/yandexdataschool/Practical_RL/master/week09_policy_II/test_ppo/state.npy\n",
        "    !curl -O https://raw.githubusercontent.com/yandexdataschool/Practical_RL/master/week09_policy_II/test_ppo/advantages.npy\n",
        "    !curl -O https://raw.githubusercontent.com/yandexdataschool/Practical_RL/master/week09_policy_II/test_ppo/value_targets.npy\n",
        "    !curl -O https://raw.githubusercontent.com/yandexdataschool/Practical_RL/master/week09_policy_II/test_ppo/policy\n",
        "\n",
        "    trajectory = {}\n",
        "    for key in ['actions', 'log_probs', 'values', 'observations', 'rewards', 'resets']:\n",
        "        trajectory[key] = np.load(f'{key}.npy', allow_pickle=True)\n",
        "    trajectory['state'] = {\"latest_observation\": np.load('state.npy')}\n",
        "\n",
        "    policy = torch.load(f'policy')\n",
        "    # print(policy.model)\n",
        "    gae_to_test = GAE(policy, gamma=0.99, lambda_=0.95)\n",
        "\n",
        "    gae_to_test(trajectory)\n",
        "\n",
        "    for key in ['advantages', 'value_targets']:\n",
        "        diff = np.squeeze(np.load(f'{key}.npy'))- trajectory[key]\n",
        "        print(np.sum(diff>0.01))\n",
        "        # print(diff>0.01)\n",
        "        # print(diff[999])\n",
        "        # print(diff[1999])\n",
        "        # print(np.load(f'{key}.npy')[999])\n",
        "        # print(np.load(f'{key}.npy')[1999])\n",
        "        # indices = np.where(diff>0.01)[0]\n",
        "        # print(indices)\n",
        "        assert np.allclose(np.squeeze(np.load(f'{key}.npy')), trajectory[key], atol=2e-2)\n",
        "\n",
        "    print(\"It's all good!\")\n",
        "\n",
        "test_gae()"
      ]
    },
    {
      "cell_type": "code",
      "source": [
        "print(np.load('value_targets.npy'))"
      ],
      "metadata": {
        "id": "GJCk0aurxn6u",
        "colab": {
          "base_uri": "https://localhost:8080/"
        },
        "outputId": "96c181d0-ec26-4c6e-b2ff-8f783dfac7f3"
      },
      "execution_count": 24,
      "outputs": [
        {
          "output_type": "stream",
          "name": "stdout",
          "text": [
            "[[-10.08693   ]\n",
            " [ -6.5636344 ]\n",
            " [ -8.138008  ]\n",
            " ...\n",
            " [  0.11655575]\n",
            " [  0.15860647]\n",
            " [  0.17834736]]\n"
          ]
        }
      ]
    },
    {
      "cell_type": "code",
      "source": [
        "a = np.random.rand(2048,1)\n",
        "b = np.random.rand(2048,1)\n",
        "c = a-b\n",
        "c"
      ],
      "metadata": {
        "id": "EI9szbk3vQHj",
        "colab": {
          "base_uri": "https://localhost:8080/"
        },
        "outputId": "5441b6c8-5dbd-4f5b-c96b-da1668d15359"
      },
      "execution_count": 25,
      "outputs": [
        {
          "output_type": "execute_result",
          "data": {
            "text/plain": [
              "array([[ 0.15490545],\n",
              "       [-0.12419563],\n",
              "       [-0.68546698],\n",
              "       ...,\n",
              "       [-0.46659089],\n",
              "       [ 0.11319816],\n",
              "       [-0.01258756]])"
            ]
          },
          "metadata": {},
          "execution_count": 25
        }
      ]
    },
    {
      "cell_type": "code",
      "source": [],
      "metadata": {
        "id": "2yd--LyXvQBL"
      },
      "execution_count": 25,
      "outputs": []
    },
    {
      "cell_type": "markdown",
      "metadata": {
        "id": "yce0A8x7NCV7"
      },
      "source": [
        "The main advantage of PPO over simpler policy based methods like A2C is that it is possible\n",
        "to train on the same trajectory for multiple gradient steps. The following class wraps\n",
        "an `EnvRunner`. It should call the runner to get a trajectory, then return minibatches\n",
        "from it for a number of epochs, shuffling the data before each epoch."
      ]
    },
    {
      "cell_type": "code",
      "execution_count": 26,
      "metadata": {
        "id": "J7tIjwbkNCV8"
      },
      "outputs": [],
      "source": [
        "class TrajectorySampler:\n",
        "    \"\"\" Samples minibatches from trajectory for a number of epochs. \"\"\"\n",
        "    def __init__(self, runner, num_epochs, num_minibatches, transforms=None):\n",
        "        self.runner = runner\n",
        "        self.num_epochs = num_epochs\n",
        "        self.num_minibatches = num_minibatches\n",
        "        self.transforms = transforms or []\n",
        "        self.minibatch_count = 0\n",
        "        self.epoch_count = 0\n",
        "        self.trajectory = None\n",
        "\n",
        "    def shuffle_trajectory(self):\n",
        "        \"\"\" Shuffles all elements in trajectory.\n",
        "\n",
        "        Should be called at the beginning of each epoch.\n",
        "        \"\"\"\n",
        "        trajectory_len = self.trajectory[\"observations\"].shape[0]\n",
        "\n",
        "        permutation = np.random.permutation(trajectory_len)\n",
        "        for key, value in self.trajectory.items():\n",
        "            if key != 'state':\n",
        "                self.trajectory[key] = value[permutation]\n",
        "\n",
        "    def get_next(self):\n",
        "        \"\"\" Returns next minibatch.  \"\"\"\n",
        "        if not self.trajectory:\n",
        "            self.trajectory = self.runner.get_next()\n",
        "\n",
        "        if self.minibatch_count == self.num_minibatches:\n",
        "            self.shuffle_trajectory()\n",
        "            self.minibatch_count = 0\n",
        "            self.epoch_count += 1\n",
        "\n",
        "        if self.epoch_count == self.num_epochs:\n",
        "            self.trajectory = self.runner.get_next()\n",
        "\n",
        "            self.shuffle_trajectory()\n",
        "            self.minibatch_count = 0\n",
        "            self.epoch_count = 0\n",
        "\n",
        "        trajectory_len = self.trajectory[\"observations\"].shape[0]\n",
        "\n",
        "        batch_size = trajectory_len//self.num_minibatches\n",
        "\n",
        "        minibatch = {}\n",
        "        for key, value in self.trajectory.items():\n",
        "            if key != 'state':\n",
        "                minibatch[key] = value[self.minibatch_count*batch_size: (self.minibatch_count + 1)*batch_size]\n",
        "\n",
        "        self.minibatch_count += 1\n",
        "\n",
        "        for transform in self.transforms:\n",
        "            transform(minibatch)\n",
        "\n",
        "        return minibatch"
      ]
    },
    {
      "cell_type": "markdown",
      "metadata": {
        "id": "U1UgHPb0NCV8"
      },
      "source": [
        "A common trick to use with GAE is to normalize advantages, please implement the normalization."
      ]
    },
    {
      "cell_type": "code",
      "execution_count": 27,
      "metadata": {
        "id": "GZrUlmFYNCV9"
      },
      "outputs": [],
      "source": [
        "class NormalizeAdvantages:\n",
        "    \"\"\" Normalizes advantages to have zero mean and variance 1. \"\"\"\n",
        "    def __call__(self, trajectory):\n",
        "        # < insert your code here >\n",
        "        adv = trajectory['advantages']\n",
        "        mean = np.mean(adv)\n",
        "        std_dev = np.std(adv)\n",
        "\n",
        "        # Normalize the vector\n",
        "        norm_adv = (adv - mean) / (std_dev+0.0001)\n",
        "        trajectory['advantages'] = norm_adv\n",
        "        return trajectory"
      ]
    },
    {
      "cell_type": "markdown",
      "metadata": {
        "id": "DXnare-INCV-"
      },
      "source": [
        "Finally, we can create our PPO runner."
      ]
    },
    {
      "cell_type": "code",
      "execution_count": 28,
      "metadata": {
        "id": "tx0Yr0GtNCV_"
      },
      "outputs": [],
      "source": [
        "def make_ppo_runner(env, policy, num_runner_steps=2048,\n",
        "                    gamma=0.99, lambda_=0.95,\n",
        "                    num_epochs=10, num_minibatches=32):\n",
        "    \"\"\" Creates runner for PPO algorithm. \"\"\"\n",
        "    runner_transforms = [AsArray(),\n",
        "                       GAE(policy, gamma=gamma, lambda_=lambda_)]\n",
        "    runner = EnvRunner(env, policy, num_runner_steps,\n",
        "                     transforms=runner_transforms)\n",
        "\n",
        "    sampler_transforms = [NormalizeAdvantages()]\n",
        "    sampler = TrajectorySampler(runner, num_epochs=num_epochs,\n",
        "                              num_minibatches=num_minibatches,\n",
        "                              transforms=sampler_transforms)\n",
        "    return sampler"
      ]
    },
    {
      "cell_type": "markdown",
      "metadata": {
        "id": "MX1aZueWNCWA"
      },
      "source": [
        "In the next cell you will need to implement Proximal Policy Optimization algorithm itself. The algorithm\n",
        "modifies the typical policy gradient loss in the following way:\n",
        "\n",
        "$$\n",
        "J_{\\pi}(s, a) = \\frac{\\pi_\\theta(a|s)}{\\pi_\\theta^{\\text{old}}(a|s)} \\cdot A^{\\mathrm{GAE}(\\gamma,\\lambda)}(s, a)\n",
        "$$\n",
        "\n",
        "$$\n",
        "J_{\\pi}^{\\text{clipped}}(s, a) = \\mathrm{clip}\\left(\n",
        "\\frac{\\pi_\\theta(a|s)}{\\pi_{\\theta^{\\text{old}}}(a|s)},\n",
        "1 - \\text{cliprange}, 1 + \\text{cliprange}\\right)\\cdot A^{\\mathrm{GAE(\\gamma, \\lambda)}}(s)\\\\\n",
        "$$\n",
        "\n",
        "$$\n",
        "L_{\\text{policy}} = -\\frac{1}{T}\\sum_{l=0}^{T-1}\\min\\left(J_\\pi(s_{t + l}, a_{t + l}), J_{\\pi}^{\\text{clipped}}(s_{t + l}, a_{t + l})\\right).\n",
        "$$\n",
        "\n",
        "The value loss is also modified:\n",
        "\n",
        "$$\n",
        "L_{V}^{\\text{clipped}} = \\frac{1}{T}\\sum_{l=0}^{T-1} \\max(l^{simple}(s_{t + l}), l^{clipped}(s_{t + l}))\n",
        "$$\n",
        ", where $l^{simple}$ is your standard critic loss\n",
        "$$\n",
        "l^{simple}(s_{t + l}) = [V_\\theta(s_{t+l}) - G(s_{t + l})]^2\n",
        "$$\n",
        "\n",
        "and $l^{clipped}$ is a clipped version that limits large changes of the value function:\n",
        "$$\n",
        "l^{clipped}(s_{t + l}) = [\n",
        "V_{\\theta^{\\text{old}}}(s_{t+l}) +\n",
        "\\text{clip}\\left(\n",
        "V_\\theta(s_{t+l}) - V_{\\theta^\\text{old}}(s_{t+l}),\n",
        "-\\text{cliprange}, \\text{cliprange}\n",
        "\\right) - G(s_{t + l})] ^ 2\n",
        "$$"
      ]
    },
    {
      "cell_type": "code",
      "execution_count": 29,
      "metadata": {
        "id": "JYGV4EmxNCWB"
      },
      "outputs": [],
      "source": [
        "\n",
        "from math import gamma\n",
        "class PPO:\n",
        "    def __init__(self, policy, opt,\n",
        "               cliprange=0.2,\n",
        "               value_loss_coef=0.5,\n",
        "               max_grad_norm=0.5, entropy_coef= 0.01):\n",
        "        self.policy = policy\n",
        "        # self.optimizer_p = optimizer_p\n",
        "        # self.optimizer_v = optimizer_v\n",
        "        self.opt = opt\n",
        "        self.cliprange = cliprange\n",
        "        self.value_loss_coef = value_loss_coef\n",
        "        # Note that we don't need entropy regularization for this env.\n",
        "        self.max_grad_norm = max_grad_norm\n",
        "        self.entropy_coef = entropy_coef\n",
        "\n",
        "    def policy_loss(self, trajectory, act):\n",
        "        # print(act)\n",
        "        \"\"\" Computes and returns policy loss on a given trajectory. \"\"\"\n",
        "        # < insert your code here >\n",
        "\n",
        "\n",
        "        actions = torch.tensor(trajectory['actions'], dtype=torch.float32, device=device)\n",
        "        distr = act['distribution']\n",
        "        new_log_probs = distr.log_prob(actions).sum(-1)\n",
        "\n",
        "        old_log_probs = torch.tensor(trajectory['log_probs'], dtype=torch.float32, device=device)\n",
        "        advantages = torch.tensor(trajectory['advantages'], dtype=torch.float32, device=device)\n",
        "\n",
        "        ratio = torch.exp(new_log_probs - old_log_probs)\n",
        "        J = ratio*advantages\n",
        "        J_cl = torch.clamp(ratio, 1-self.cliprange, 1+self.cliprange)* advantages\n",
        "        loss = -torch.mean(torch.min(J, J_cl))\n",
        "        return loss\n",
        "\n",
        "    def get_kl(self, trajectory, act):\n",
        "        actions = torch.tensor(trajectory['actions'], dtype=torch.float32, device=device)\n",
        "        distr = act['distribution']\n",
        "        new_log_probs = distr.log_prob(actions).sum(-1)\n",
        "\n",
        "        old_log_probs = torch.tensor(trajectory['log_probs'], dtype=torch.float32, device=device)\n",
        "        log_ratio = -old_log_probs+ new_log_probs\n",
        "        ratio = log_ratio.exp()\n",
        "\n",
        "        approx_kl = (ratio-1-log_ratio).mean()\n",
        "        return approx_kl.item()\n",
        "\n",
        "    def value_loss(self, trajectory, act):\n",
        "        \"\"\" Computes and returns value loss on a given trajectory. \"\"\"\n",
        "        # < insert your code here >\n",
        "        rewards = trajectory['rewards']\n",
        "        resets = trajectory['resets']\n",
        "        states = trajectory['observations']\n",
        "        advantages = torch.tensor(trajectory['advantages'], dtype=torch.float32, device=device)\n",
        "        value_targets = torch.tensor(trajectory['value_targets'], dtype=torch.float32, device=device)\n",
        "\n",
        "        old_values = torch.tensor(trajectory['values'], dtype=torch.float32, device=device)\n",
        "        n = len(states)\n",
        "\n",
        "\n",
        "        new_values = act['values']\n",
        "\n",
        "        l_simple = (new_values- value_targets)**2\n",
        "        l_clipped = (old_values + torch.clamp(new_values - old_values, -self.cliprange, self.cliprange)- value_targets)**2\n",
        "        loss = torch.mean(torch.max(l_simple, l_clipped))\n",
        "        return loss\n",
        "\n",
        "    def entropy_loss(self, trajectory, act):\n",
        "        # -sum pi * log pi\n",
        "        actions = torch.tensor(trajectory['actions'], dtype=torch.float32, device=device)\n",
        "        distr = act['distribution']\n",
        "        new_log_probs = distr.log_prob(actions).sum(-1)\n",
        "        new_probs = torch.exp(new_log_probs)\n",
        "        loss = - torch.sum(new_probs*new_log_probs)\n",
        "        return loss\n",
        "\n",
        "    def loss(self, trajectory):\n",
        "        act = self.policy.act(trajectory[\"observations\"], training=True)\n",
        "        policy_loss = self.policy_loss(trajectory, act)\n",
        "        value_loss = self.value_loss(trajectory, act)\n",
        "        entropy_loss = self.entropy_loss(trajectory, act)\n",
        "        kl = self.get_kl(trajectory, act)\n",
        "        # return policy_loss + self.value_loss_coef * value_loss\n",
        "        return policy_loss, value_loss, entropy_loss, kl\n",
        "\n",
        "    def step(self, trajectory):\n",
        "        \"\"\" Computes the loss function and performs a single gradient step. \"\"\"\n",
        "\n",
        "        # target_kl = 0.01\n",
        "        # v_iters = 10\n",
        "        # p_iters = 10\n",
        "        # for i in range(p_iters):\n",
        "        #   self.optimizer_p.zero_grad()\n",
        "        #   policy_loss, value_loss, entropy_loss, kl = self.loss(trajectory)\n",
        "        #   if(kl>1.5*target_kl):\n",
        "        #     break\n",
        "        #   loss_p = policy_loss\n",
        "        #   loss_p.backward()\n",
        "        #   nn.utils.clip_grad_norm_(self.policy.model.policy_model.parameters(), self.max_grad_norm)\n",
        "        #   self.optimizer_p.step()\n",
        "\n",
        "        # for i in range(v_iters):\n",
        "        #   self.optimizer_v.zero_grad()\n",
        "        #   policy_loss, value_loss, entropy_loss,_ = self.loss(trajectory)\n",
        "        #   loss_v = value_loss\n",
        "        #   loss_v.backward()\n",
        "        #   nn.utils.clip_grad_norm_(self.policy.model.value_model.parameters(), self.max_grad_norm)\n",
        "        #   self.optimizer_v.step()\n",
        "\n",
        "        self.opt.zero_grad()\n",
        "        policy_loss, value_loss, _, _ = self.loss(trajectory)\n",
        "        loss = policy_loss + self.value_loss_coef*value_loss\n",
        "        loss.backward()\n",
        "        nn.utils.clip_grad_norm_(self.policy.model.parameters(), self.max_grad_norm)\n",
        "        self.opt.step()\n",
        "\n",
        "        return policy_loss.item(), value_loss.item()"
      ]
    },
    {
      "cell_type": "markdown",
      "metadata": {
        "id": "AVNS0IFhNCWB"
      },
      "source": [
        "Now everything is ready to do training. In one million of interactions it should be possible to\n",
        "achieve the total raw reward of about 1500. You should plot this quantity with respect to\n",
        "`runner.step_var` &mdash; the number of interactions with the environment. It is highly\n",
        "encouraged to also provide plots of the following quantities (these are useful for debugging as well):\n",
        "\n",
        "* [Coefficient of Determination](https://en.wikipedia.org/wiki/Coefficient_of_determination) between\n",
        "value targets and value predictions\n",
        "* Entropy of the policy $\\pi$\n",
        "* Value loss\n",
        "* Policy loss\n",
        "* Value targets\n",
        "* Value predictions\n",
        "* Gradient norm\n",
        "* Advantages\n",
        "\n",
        "For optimization it is suggested to use Adam optimizer with linearly annealing learning rate\n",
        "from 3e-4 to 0 and epsilon 1e-5."
      ]
    },
    {
      "cell_type": "code",
      "source": [],
      "metadata": {
        "id": "9LCJwX6Whjbj"
      },
      "execution_count": 29,
      "outputs": []
    },
    {
      "cell_type": "code",
      "execution_count": 30,
      "metadata": {
        "id": "WmroaOHX33nZ"
      },
      "outputs": [],
      "source": [
        "\n",
        "model = PolicyModel()\n",
        "model = model.cuda()\n",
        "\n",
        "policy = Policy(model)\n",
        "\n",
        "runner = make_ppo_runner(env, policy)"
      ]
    },
    {
      "cell_type": "code",
      "execution_count": 31,
      "metadata": {
        "id": "Psvv8oru3POG"
      },
      "outputs": [],
      "source": [
        "from IPython.display import clear_output\n",
        "from matplotlib import pyplot as plt"
      ]
    },
    {
      "cell_type": "code",
      "execution_count": null,
      "metadata": {
        "id": "2W5StJsb1mz2",
        "colab": {
          "base_uri": "https://localhost:8080/",
          "height": 825
        },
        "outputId": "fa0d69e7-a543-432d-a0b3-96157ef40d77"
      },
      "outputs": [
        {
          "output_type": "display_data",
          "data": {
            "text/plain": [
              "<Figure size 1300x800 with 3 Axes>"
            ],
            "image/png": "[encoded data removed]"
          },
          "metadata": {}
        },
        {
          "output_type": "stream",
          "name": "stderr",
          "text": [
            "\r 15%|█▌        | 38702/250000 [17:56<1:58:08, 29.81it/s]"
          ]
        }
      ],
      "source": [
        "\n",
        "# optimizer_v = torch.optim.Adam(policy.model.value_model.parameters(), lr = 1e-3, eps=1e-5)\n",
        "# optimizer_p = torch.optim.Adam(policy.model.policy_model.parameters(), lr = 3e-4, eps=1e-5)\n",
        "\n",
        "opt = torch.optim.Adam(policy.model.parameters(), lr = 3e-4, eps=1e-5)\n",
        "epochs = 250000\n",
        "\n",
        "lr_mult = lambda epoch: (1 - (epoch/epochs))\n",
        "# sched_v = torch.optim.lr_scheduler.LambdaLR(optimizer_v, lr_mult)\n",
        "# sched_p = torch.optim.lr_scheduler.LambdaLR(optimizer_p, lr_mult)\n",
        "sched = torch.optim.lr_scheduler.LambdaLR(opt, lr_mult)\n",
        "\n",
        "# ppo = PPO(policy, optimizer_p = optimizer_p, optimizer_v = optimizer_v)\n",
        "ppo = PPO(policy, opt)\n",
        "\n",
        "policy_losses = []\n",
        "value_losses = []\n",
        "rew_lens = []\n",
        "for epoch in tqdm(range(epochs)):\n",
        "    trajectory = runner.get_next()\n",
        "\n",
        "    policy_loss, value_loss= ppo.step(trajectory)  # Get the losses\n",
        "    # sched_p.step()\n",
        "    # sched_v.step()\n",
        "    sched.step()\n",
        "\n",
        "    if (epoch + 1) % 100 == 0:\n",
        "        clear_output(True)\n",
        "        rewards = np.array(env.env.episode_rewards)\n",
        "        rew_lens.append(len(rewards))\n",
        "        policy_losses.append(policy_loss)\n",
        "        value_losses.append(value_loss)\n",
        "\n",
        "\n",
        "        if rewards.size > 0:\n",
        "            plt.figure(figsize=(13,8))\n",
        "\n",
        "            plt.subplot(2,2, 1)\n",
        "            plt.plot(rewards[:, 0], rewards[:, 1], label=\"episode rewards\")\n",
        "            plt.title(\"Reward\")\n",
        "            plt.xlabel(\"Total steps\")\n",
        "            plt.ylabel(\"Reward\")\n",
        "            plt.grid()\n",
        "\n",
        "            # Plot policy loss\n",
        "            plt.subplot(2, 2, 2)\n",
        "            plt.plot(policy_losses)\n",
        "            plt.title(\"Policy Loss\")\n",
        "            plt.xlabel(\"Epoch\")\n",
        "            plt.ylabel(\"Loss\")\n",
        "            plt.grid()\n",
        "\n",
        "            # Plot value loss\n",
        "            plt.subplot(2, 2, 3)\n",
        "            plt.plot(value_losses)\n",
        "            plt.title(\"Value Loss\")\n",
        "            plt.xlabel(\"Epoch\")\n",
        "            plt.ylabel(\"Loss\")\n",
        "            plt.grid()\n",
        "\n",
        "            plt.tight_layout()\n",
        "            plt.show()\n"
      ]
    },
    {
      "cell_type": "code",
      "source": [],
      "metadata": {
        "id": "ri5gIxYw9Jtq"
      },
      "execution_count": null,
      "outputs": []
    },
    {
      "cell_type": "code",
      "source": [
        "env = gym.wrappers.RecordVideo(gym.make(\"HalfCheetah-v4\", render_mode=\"rgb_array\"), video_folder=\"./videos\", episode_trigger=lambda episode_number: True)\n",
        "for i in range(10):\n",
        "  env.episode_id += 1\n",
        "  obs = env.reset()[0]\n",
        "  env.start_video_recorder()\n",
        "  total_reward = 0\n",
        "  for i in range(500):\n",
        "    action = policy.act([obs])\n",
        "    obs,reward, done, info,_ = env.step(action['actions'])\n",
        "\n",
        "    if(done):\n",
        "      break\n",
        "    total_reward += reward\n",
        "  print('total reward', total_reward)\n",
        "  env.close_video_recorder()\n",
        "\n",
        "\n",
        "\n"
      ],
      "metadata": {
        "id": "MRwlCl8_mhhk",
        "colab": {
          "base_uri": "https://localhost:8080/",
          "height": 1000
        },
        "outputId": "4f4cc29c-6358-4232-c161-76edddb94cf0"
      },
      "execution_count": null,
      "outputs": [
        {
          "output_type": "stream",
          "name": "stderr",
          "text": [
            "/usr/local/lib/python3.10/dist-packages/gymnasium/wrappers/record_video.py:94: UserWarning: \u001b[33mWARN: Overwriting existing videos at /content/videos folder (try specifying a different `video_folder` for the `RecordVideo` wrapper if this is not desired)\u001b[0m\n",
            "  logger.warn(\n"
          ]
        },
        {
          "output_type": "stream",
          "name": "stdout",
          "text": [
            "Moviepy - Building video /content/videos/rl-video-episode-1.mp4.\n",
            "Moviepy - Writing video /content/videos/rl-video-episode-1.mp4\n",
            "\n"
          ]
        },
        {
          "output_type": "stream",
          "name": "stderr",
          "text": [
            "                                                  "
          ]
        },
        {
          "output_type": "stream",
          "name": "stdout",
          "text": [
            "Moviepy - Done !\n",
            "Moviepy - video ready /content/videos/rl-video-episode-1.mp4\n"
          ]
        },
        {
          "output_type": "stream",
          "name": "stderr",
          "text": [
            "\r<ipython-input-8-41f7afc3835f>:63: UserWarning: To copy construct from a tensor, it is recommended to use sourceTensor.clone().detach() or sourceTensor.clone().detach().requires_grad_(True), rather than torch.tensor(sourceTensor).\n",
            "  x= torch.tensor(x, dtype=torch.float32, device =device)\n",
            "<ipython-input-8-41f7afc3835f>:72: UserWarning: To copy construct from a tensor, it is recommended to use sourceTensor.clone().detach() or sourceTensor.clone().detach().requires_grad_(True), rather than torch.tensor(sourceTensor).\n",
            "  x= torch.tensor(x, dtype=torch.float32, device =device)\n"
          ]
        },
        {
          "output_type": "stream",
          "name": "stdout",
          "text": [
            "total reward -909.5919929853337\n",
            "Moviepy - Building video /content/videos/rl-video-episode-1.mp4.\n",
            "Moviepy - Writing video /content/videos/rl-video-episode-1.mp4\n",
            "\n"
          ]
        },
        {
          "output_type": "stream",
          "name": "stderr",
          "text": []
        },
        {
          "output_type": "stream",
          "name": "stdout",
          "text": [
            "Moviepy - Done !\n",
            "Moviepy - video ready /content/videos/rl-video-episode-1.mp4\n",
            "Moviepy - Building video /content/videos/rl-video-episode-2.mp4.\n",
            "Moviepy - Writing video /content/videos/rl-video-episode-2.mp4\n",
            "\n"
          ]
        },
        {
          "output_type": "stream",
          "name": "stderr",
          "text": [
            "                                                  "
          ]
        },
        {
          "output_type": "stream",
          "name": "stdout",
          "text": [
            "Moviepy - Done !\n",
            "Moviepy - video ready /content/videos/rl-video-episode-2.mp4\n"
          ]
        },
        {
          "output_type": "stream",
          "name": "stderr",
          "text": [
            "\r"
          ]
        },
        {
          "output_type": "stream",
          "name": "stdout",
          "text": [
            "total reward -883.2880952463188\n",
            "Moviepy - Building video /content/videos/rl-video-episode-2.mp4.\n",
            "Moviepy - Writing video /content/videos/rl-video-episode-2.mp4\n",
            "\n"
          ]
        },
        {
          "output_type": "stream",
          "name": "stderr",
          "text": []
        },
        {
          "output_type": "stream",
          "name": "stdout",
          "text": [
            "Moviepy - Done !\n",
            "Moviepy - video ready /content/videos/rl-video-episode-2.mp4\n",
            "Moviepy - Building video /content/videos/rl-video-episode-3.mp4.\n",
            "Moviepy - Writing video /content/videos/rl-video-episode-3.mp4\n",
            "\n"
          ]
        },
        {
          "output_type": "stream",
          "name": "stderr",
          "text": [
            "                                                  "
          ]
        },
        {
          "output_type": "stream",
          "name": "stdout",
          "text": [
            "Moviepy - Done !\n",
            "Moviepy - video ready /content/videos/rl-video-episode-3.mp4\n"
          ]
        },
        {
          "output_type": "stream",
          "name": "stderr",
          "text": [
            "\r"
          ]
        },
        {
          "output_type": "stream",
          "name": "stdout",
          "text": [
            "total reward -810.7479808690229\n",
            "Moviepy - Building video /content/videos/rl-video-episode-3.mp4.\n",
            "Moviepy - Writing video /content/videos/rl-video-episode-3.mp4\n",
            "\n"
          ]
        },
        {
          "output_type": "stream",
          "name": "stderr",
          "text": []
        },
        {
          "output_type": "stream",
          "name": "stdout",
          "text": [
            "Moviepy - Done !\n",
            "Moviepy - video ready /content/videos/rl-video-episode-3.mp4\n",
            "Moviepy - Building video /content/videos/rl-video-episode-4.mp4.\n",
            "Moviepy - Writing video /content/videos/rl-video-episode-4.mp4\n",
            "\n"
          ]
        },
        {
          "output_type": "stream",
          "name": "stderr",
          "text": [
            "                                                  "
          ]
        },
        {
          "output_type": "stream",
          "name": "stdout",
          "text": [
            "Moviepy - Done !\n",
            "Moviepy - video ready /content/videos/rl-video-episode-4.mp4\n"
          ]
        },
        {
          "output_type": "stream",
          "name": "stderr",
          "text": [
            "\r"
          ]
        },
        {
          "output_type": "stream",
          "name": "stdout",
          "text": [
            "total reward -1523.2851441073685\n",
            "Moviepy - Building video /content/videos/rl-video-episode-4.mp4.\n",
            "Moviepy - Writing video /content/videos/rl-video-episode-4.mp4\n",
            "\n"
          ]
        },
        {
          "output_type": "stream",
          "name": "stderr",
          "text": []
        },
        {
          "output_type": "stream",
          "name": "stdout",
          "text": [
            "Moviepy - Done !\n",
            "Moviepy - video ready /content/videos/rl-video-episode-4.mp4\n",
            "Moviepy - Building video /content/videos/rl-video-episode-5.mp4.\n",
            "Moviepy - Writing video /content/videos/rl-video-episode-5.mp4\n",
            "\n"
          ]
        },
        {
          "output_type": "stream",
          "name": "stderr",
          "text": [
            "                                                  "
          ]
        },
        {
          "output_type": "stream",
          "name": "stdout",
          "text": [
            "Moviepy - Done !\n",
            "Moviepy - video ready /content/videos/rl-video-episode-5.mp4\n"
          ]
        },
        {
          "output_type": "stream",
          "name": "stderr",
          "text": [
            "\r"
          ]
        },
        {
          "output_type": "error",
          "ename": "KeyboardInterrupt",
          "evalue": "ignored",
          "traceback": [
            "\u001b[0;31m---------------------------------------------------------------------------\u001b[0m",
            "\u001b[0;31mKeyboardInterrupt\u001b[0m                         Traceback (most recent call last)",
            "\u001b[0;32m<ipython-input-25-234fb9c2a2f2>\u001b[0m in \u001b[0;36m<cell line: 2>\u001b[0;34m()\u001b[0m\n\u001b[1;32m      7\u001b[0m   \u001b[0;32mfor\u001b[0m \u001b[0mi\u001b[0m \u001b[0;32min\u001b[0m \u001b[0mrange\u001b[0m\u001b[0;34m(\u001b[0m\u001b[0;36m500\u001b[0m\u001b[0;34m)\u001b[0m\u001b[0;34m:\u001b[0m\u001b[0;34m\u001b[0m\u001b[0;34m\u001b[0m\u001b[0m\n\u001b[1;32m      8\u001b[0m     \u001b[0maction\u001b[0m \u001b[0;34m=\u001b[0m \u001b[0mpolicy\u001b[0m\u001b[0;34m.\u001b[0m\u001b[0mact\u001b[0m\u001b[0;34m(\u001b[0m\u001b[0;34m[\u001b[0m\u001b[0mobs\u001b[0m\u001b[0;34m]\u001b[0m\u001b[0;34m)\u001b[0m\u001b[0;34m\u001b[0m\u001b[0;34m\u001b[0m\u001b[0m\n\u001b[0;32m----> 9\u001b[0;31m     \u001b[0mobs\u001b[0m\u001b[0;34m,\u001b[0m\u001b[0mreward\u001b[0m\u001b[0;34m,\u001b[0m \u001b[0mdone\u001b[0m\u001b[0;34m,\u001b[0m \u001b[0minfo\u001b[0m\u001b[0;34m,\u001b[0m\u001b[0m_\u001b[0m \u001b[0;34m=\u001b[0m \u001b[0menv\u001b[0m\u001b[0;34m.\u001b[0m\u001b[0mstep\u001b[0m\u001b[0;34m(\u001b[0m\u001b[0maction\u001b[0m\u001b[0;34m[\u001b[0m\u001b[0;34m'actions'\u001b[0m\u001b[0;34m]\u001b[0m\u001b[0;34m)\u001b[0m\u001b[0;34m\u001b[0m\u001b[0;34m\u001b[0m\u001b[0m\n\u001b[0m\u001b[1;32m     10\u001b[0m \u001b[0;34m\u001b[0m\u001b[0m\n\u001b[1;32m     11\u001b[0m     \u001b[0;32mif\u001b[0m\u001b[0;34m(\u001b[0m\u001b[0mdone\u001b[0m\u001b[0;34m)\u001b[0m\u001b[0;34m:\u001b[0m\u001b[0;34m\u001b[0m\u001b[0;34m\u001b[0m\u001b[0m\n",
            "\u001b[0;32m/usr/local/lib/python3.10/dist-packages/gymnasium/wrappers/record_video.py\u001b[0m in \u001b[0;36mstep\u001b[0;34m(self, action)\u001b[0m\n\u001b[1;32m    181\u001b[0m             \u001b[0;32mif\u001b[0m \u001b[0mself\u001b[0m\u001b[0;34m.\u001b[0m\u001b[0mrecording\u001b[0m\u001b[0;34m:\u001b[0m\u001b[0;34m\u001b[0m\u001b[0;34m\u001b[0m\u001b[0m\n\u001b[1;32m    182\u001b[0m                 \u001b[0;32massert\u001b[0m \u001b[0mself\u001b[0m\u001b[0;34m.\u001b[0m\u001b[0mvideo_recorder\u001b[0m \u001b[0;32mis\u001b[0m \u001b[0;32mnot\u001b[0m \u001b[0;32mNone\u001b[0m\u001b[0;34m\u001b[0m\u001b[0;34m\u001b[0m\u001b[0m\n\u001b[0;32m--> 183\u001b[0;31m                 \u001b[0mself\u001b[0m\u001b[0;34m.\u001b[0m\u001b[0mvideo_recorder\u001b[0m\u001b[0;34m.\u001b[0m\u001b[0mcapture_frame\u001b[0m\u001b[0;34m(\u001b[0m\u001b[0;34m)\u001b[0m\u001b[0;34m\u001b[0m\u001b[0;34m\u001b[0m\u001b[0m\n\u001b[0m\u001b[1;32m    184\u001b[0m                 \u001b[0mself\u001b[0m\u001b[0;34m.\u001b[0m\u001b[0mrecorded_frames\u001b[0m \u001b[0;34m+=\u001b[0m \u001b[0;36m1\u001b[0m\u001b[0;34m\u001b[0m\u001b[0;34m\u001b[0m\u001b[0m\n\u001b[1;32m    185\u001b[0m                 \u001b[0;32mif\u001b[0m \u001b[0mself\u001b[0m\u001b[0;34m.\u001b[0m\u001b[0mvideo_length\u001b[0m \u001b[0;34m>\u001b[0m \u001b[0;36m0\u001b[0m\u001b[0;34m:\u001b[0m\u001b[0;34m\u001b[0m\u001b[0;34m\u001b[0m\u001b[0m\n",
            "\u001b[0;32m/usr/local/lib/python3.10/dist-packages/gymnasium/wrappers/monitoring/video_recorder.py\u001b[0m in \u001b[0;36mcapture_frame\u001b[0;34m(self)\u001b[0m\n\u001b[1;32m    111\u001b[0m     \u001b[0;32mdef\u001b[0m \u001b[0mcapture_frame\u001b[0m\u001b[0;34m(\u001b[0m\u001b[0mself\u001b[0m\u001b[0;34m)\u001b[0m\u001b[0;34m:\u001b[0m\u001b[0;34m\u001b[0m\u001b[0;34m\u001b[0m\u001b[0m\n\u001b[1;32m    112\u001b[0m         \u001b[0;34m\"\"\"Render the given `env` and add the resulting frame to the video.\"\"\"\u001b[0m\u001b[0;34m\u001b[0m\u001b[0;34m\u001b[0m\u001b[0m\n\u001b[0;32m--> 113\u001b[0;31m         \u001b[0mframe\u001b[0m \u001b[0;34m=\u001b[0m \u001b[0mself\u001b[0m\u001b[0;34m.\u001b[0m\u001b[0menv\u001b[0m\u001b[0;34m.\u001b[0m\u001b[0mrender\u001b[0m\u001b[0;34m(\u001b[0m\u001b[0;34m)\u001b[0m\u001b[0;34m\u001b[0m\u001b[0;34m\u001b[0m\u001b[0m\n\u001b[0m\u001b[1;32m    114\u001b[0m         \u001b[0;32mif\u001b[0m \u001b[0misinstance\u001b[0m\u001b[0;34m(\u001b[0m\u001b[0mframe\u001b[0m\u001b[0;34m,\u001b[0m \u001b[0mList\u001b[0m\u001b[0;34m)\u001b[0m\u001b[0;34m:\u001b[0m\u001b[0;34m\u001b[0m\u001b[0;34m\u001b[0m\u001b[0m\n\u001b[1;32m    115\u001b[0m             \u001b[0mself\u001b[0m\u001b[0;34m.\u001b[0m\u001b[0mrender_history\u001b[0m \u001b[0;34m+=\u001b[0m \u001b[0mframe\u001b[0m\u001b[0;34m\u001b[0m\u001b[0;34m\u001b[0m\u001b[0m\n",
            "\u001b[0;32m/usr/local/lib/python3.10/dist-packages/gymnasium/core.py\u001b[0m in \u001b[0;36mrender\u001b[0;34m(self)\u001b[0m\n\u001b[1;32m    469\u001b[0m     \u001b[0;32mdef\u001b[0m \u001b[0mrender\u001b[0m\u001b[0;34m(\u001b[0m\u001b[0mself\u001b[0m\u001b[0;34m)\u001b[0m \u001b[0;34m->\u001b[0m \u001b[0mRenderFrame\u001b[0m \u001b[0;34m|\u001b[0m \u001b[0mlist\u001b[0m\u001b[0;34m[\u001b[0m\u001b[0mRenderFrame\u001b[0m\u001b[0;34m]\u001b[0m \u001b[0;34m|\u001b[0m \u001b[0;32mNone\u001b[0m\u001b[0;34m:\u001b[0m\u001b[0;34m\u001b[0m\u001b[0;34m\u001b[0m\u001b[0m\n\u001b[1;32m    470\u001b[0m         \u001b[0;34m\"\"\"Uses the :meth:`render` of the :attr:`env` that can be overwritten to change the returned data.\"\"\"\u001b[0m\u001b[0;34m\u001b[0m\u001b[0;34m\u001b[0m\u001b[0m\n\u001b[0;32m--> 471\u001b[0;31m         \u001b[0;32mreturn\u001b[0m \u001b[0mself\u001b[0m\u001b[0;34m.\u001b[0m\u001b[0menv\u001b[0m\u001b[0;34m.\u001b[0m\u001b[0mrender\u001b[0m\u001b[0;34m(\u001b[0m\u001b[0;34m)\u001b[0m\u001b[0;34m\u001b[0m\u001b[0;34m\u001b[0m\u001b[0m\n\u001b[0m\u001b[1;32m    472\u001b[0m \u001b[0;34m\u001b[0m\u001b[0m\n\u001b[1;32m    473\u001b[0m     \u001b[0;32mdef\u001b[0m \u001b[0mclose\u001b[0m\u001b[0;34m(\u001b[0m\u001b[0mself\u001b[0m\u001b[0;34m)\u001b[0m\u001b[0;34m:\u001b[0m\u001b[0;34m\u001b[0m\u001b[0;34m\u001b[0m\u001b[0m\n",
            "\u001b[0;32m/usr/local/lib/python3.10/dist-packages/gymnasium/wrappers/order_enforcing.py\u001b[0m in \u001b[0;36mrender\u001b[0;34m(self, *args, **kwargs)\u001b[0m\n\u001b[1;32m     68\u001b[0m                 \u001b[0;34m\"set `disable_render_order_enforcing=True` on the OrderEnforcer wrapper.\"\u001b[0m\u001b[0;34m\u001b[0m\u001b[0;34m\u001b[0m\u001b[0m\n\u001b[1;32m     69\u001b[0m             )\n\u001b[0;32m---> 70\u001b[0;31m         \u001b[0;32mreturn\u001b[0m \u001b[0mself\u001b[0m\u001b[0;34m.\u001b[0m\u001b[0menv\u001b[0m\u001b[0;34m.\u001b[0m\u001b[0mrender\u001b[0m\u001b[0;34m(\u001b[0m\u001b[0;34m*\u001b[0m\u001b[0margs\u001b[0m\u001b[0;34m,\u001b[0m \u001b[0;34m**\u001b[0m\u001b[0mkwargs\u001b[0m\u001b[0;34m)\u001b[0m\u001b[0;34m\u001b[0m\u001b[0;34m\u001b[0m\u001b[0m\n\u001b[0m\u001b[1;32m     71\u001b[0m \u001b[0;34m\u001b[0m\u001b[0m\n\u001b[1;32m     72\u001b[0m     \u001b[0;34m@\u001b[0m\u001b[0mproperty\u001b[0m\u001b[0;34m\u001b[0m\u001b[0;34m\u001b[0m\u001b[0m\n",
            "\u001b[0;32m/usr/local/lib/python3.10/dist-packages/gymnasium/wrappers/env_checker.py\u001b[0m in \u001b[0;36mrender\u001b[0;34m(self, *args, **kwargs)\u001b[0m\n\u001b[1;32m     65\u001b[0m             \u001b[0;32mreturn\u001b[0m \u001b[0menv_render_passive_checker\u001b[0m\u001b[0;34m(\u001b[0m\u001b[0mself\u001b[0m\u001b[0;34m.\u001b[0m\u001b[0menv\u001b[0m\u001b[0;34m,\u001b[0m \u001b[0;34m*\u001b[0m\u001b[0margs\u001b[0m\u001b[0;34m,\u001b[0m \u001b[0;34m**\u001b[0m\u001b[0mkwargs\u001b[0m\u001b[0;34m)\u001b[0m\u001b[0;34m\u001b[0m\u001b[0;34m\u001b[0m\u001b[0m\n\u001b[1;32m     66\u001b[0m         \u001b[0;32melse\u001b[0m\u001b[0;34m:\u001b[0m\u001b[0;34m\u001b[0m\u001b[0;34m\u001b[0m\u001b[0m\n\u001b[0;32m---> 67\u001b[0;31m             \u001b[0;32mreturn\u001b[0m \u001b[0mself\u001b[0m\u001b[0;34m.\u001b[0m\u001b[0menv\u001b[0m\u001b[0;34m.\u001b[0m\u001b[0mrender\u001b[0m\u001b[0;34m(\u001b[0m\u001b[0;34m*\u001b[0m\u001b[0margs\u001b[0m\u001b[0;34m,\u001b[0m \u001b[0;34m**\u001b[0m\u001b[0mkwargs\u001b[0m\u001b[0;34m)\u001b[0m\u001b[0;34m\u001b[0m\u001b[0;34m\u001b[0m\u001b[0m\n\u001b[0m\u001b[1;32m     68\u001b[0m \u001b[0;34m\u001b[0m\u001b[0m\n\u001b[1;32m     69\u001b[0m     \u001b[0;34m@\u001b[0m\u001b[0mproperty\u001b[0m\u001b[0;34m\u001b[0m\u001b[0;34m\u001b[0m\u001b[0m\n",
            "\u001b[0;32m/usr/local/lib/python3.10/dist-packages/gymnasium/envs/mujoco/mujoco_env.py\u001b[0m in \u001b[0;36mrender\u001b[0;34m(self)\u001b[0m\n\u001b[1;32m    407\u001b[0m \u001b[0;34m\u001b[0m\u001b[0m\n\u001b[1;32m    408\u001b[0m     \u001b[0;32mdef\u001b[0m \u001b[0mrender\u001b[0m\u001b[0;34m(\u001b[0m\u001b[0mself\u001b[0m\u001b[0;34m)\u001b[0m\u001b[0;34m:\u001b[0m\u001b[0;34m\u001b[0m\u001b[0;34m\u001b[0m\u001b[0m\n\u001b[0;32m--> 409\u001b[0;31m         return self.mujoco_renderer.render(\n\u001b[0m\u001b[1;32m    410\u001b[0m             \u001b[0mself\u001b[0m\u001b[0;34m.\u001b[0m\u001b[0mrender_mode\u001b[0m\u001b[0;34m,\u001b[0m \u001b[0mself\u001b[0m\u001b[0;34m.\u001b[0m\u001b[0mcamera_id\u001b[0m\u001b[0;34m,\u001b[0m \u001b[0mself\u001b[0m\u001b[0;34m.\u001b[0m\u001b[0mcamera_name\u001b[0m\u001b[0;34m\u001b[0m\u001b[0;34m\u001b[0m\u001b[0m\n\u001b[1;32m    411\u001b[0m         )\n",
            "\u001b[0;32m/usr/local/lib/python3.10/dist-packages/gymnasium/envs/mujoco/mujoco_rendering.py\u001b[0m in \u001b[0;36mrender\u001b[0;34m(self, render_mode, camera_id, camera_name)\u001b[0m\n\u001b[1;32m    667\u001b[0m                 )\n\u001b[1;32m    668\u001b[0m \u001b[0;34m\u001b[0m\u001b[0m\n\u001b[0;32m--> 669\u001b[0;31m             \u001b[0mimg\u001b[0m \u001b[0;34m=\u001b[0m \u001b[0mviewer\u001b[0m\u001b[0;34m.\u001b[0m\u001b[0mrender\u001b[0m\u001b[0;34m(\u001b[0m\u001b[0mrender_mode\u001b[0m\u001b[0;34m=\u001b[0m\u001b[0mrender_mode\u001b[0m\u001b[0;34m,\u001b[0m \u001b[0mcamera_id\u001b[0m\u001b[0;34m=\u001b[0m\u001b[0mcamera_id\u001b[0m\u001b[0;34m)\u001b[0m\u001b[0;34m\u001b[0m\u001b[0;34m\u001b[0m\u001b[0m\n\u001b[0m\u001b[1;32m    670\u001b[0m             \u001b[0;32mreturn\u001b[0m \u001b[0mimg\u001b[0m\u001b[0;34m\u001b[0m\u001b[0;34m\u001b[0m\u001b[0m\n\u001b[1;32m    671\u001b[0m \u001b[0;34m\u001b[0m\u001b[0m\n",
            "\u001b[0;32m/usr/local/lib/python3.10/dist-packages/gymnasium/envs/mujoco/mujoco_rendering.py\u001b[0m in \u001b[0;36mrender\u001b[0;34m(self, render_mode, camera_id, segmentation)\u001b[0m\n\u001b[1;32m    221\u001b[0m             \u001b[0mself\u001b[0m\u001b[0;34m.\u001b[0m\u001b[0m_add_marker_to_scene\u001b[0m\u001b[0;34m(\u001b[0m\u001b[0mmarker_params\u001b[0m\u001b[0;34m)\u001b[0m\u001b[0;34m\u001b[0m\u001b[0;34m\u001b[0m\u001b[0m\n\u001b[1;32m    222\u001b[0m \u001b[0;34m\u001b[0m\u001b[0m\n\u001b[0;32m--> 223\u001b[0;31m         \u001b[0mmujoco\u001b[0m\u001b[0;34m.\u001b[0m\u001b[0mmjr_render\u001b[0m\u001b[0;34m(\u001b[0m\u001b[0mself\u001b[0m\u001b[0;34m.\u001b[0m\u001b[0mviewport\u001b[0m\u001b[0;34m,\u001b[0m \u001b[0mself\u001b[0m\u001b[0;34m.\u001b[0m\u001b[0mscn\u001b[0m\u001b[0;34m,\u001b[0m \u001b[0mself\u001b[0m\u001b[0;34m.\u001b[0m\u001b[0mcon\u001b[0m\u001b[0;34m)\u001b[0m\u001b[0;34m\u001b[0m\u001b[0;34m\u001b[0m\u001b[0m\n\u001b[0m\u001b[1;32m    224\u001b[0m \u001b[0;34m\u001b[0m\u001b[0m\n\u001b[1;32m    225\u001b[0m         \u001b[0;32mfor\u001b[0m \u001b[0mgridpos\u001b[0m\u001b[0;34m,\u001b[0m \u001b[0;34m(\u001b[0m\u001b[0mtext1\u001b[0m\u001b[0;34m,\u001b[0m \u001b[0mtext2\u001b[0m\u001b[0;34m)\u001b[0m \u001b[0;32min\u001b[0m \u001b[0mself\u001b[0m\u001b[0;34m.\u001b[0m\u001b[0m_overlays\u001b[0m\u001b[0;34m.\u001b[0m\u001b[0mitems\u001b[0m\u001b[0;34m(\u001b[0m\u001b[0;34m)\u001b[0m\u001b[0;34m:\u001b[0m\u001b[0;34m\u001b[0m\u001b[0;34m\u001b[0m\u001b[0m\n",
            "\u001b[0;31mKeyboardInterrupt\u001b[0m: "
          ]
        }
      ]
    },
    {
      "cell_type": "code",
      "source": [
        "\n"
      ],
      "metadata": {
        "id": "TN4EOhwDwWsO"
      },
      "execution_count": null,
      "outputs": []
    },
    {
      "cell_type": "code",
      "source": [],
      "metadata": {
        "id": "Wp--9DUM0fQB"
      },
      "execution_count": null,
      "outputs": []
    }
  ],
  "metadata": {
    "accelerator": "GPU",
    "colab": {
      "name": "Копия блокнота \"Копия блокнота \"Копия блокнота \"Копия блокнота \"ppo.ipynb\"\"\"\"",
      "provenance": [],
      "gpuType": "T4",
      "include_colab_link": true
    },
    "kernelspec": {
      "display_name": "Python 3",
      "name": "python3"
    },
    "language_info": {
      "codemirror_mode": {
        "name": "ipython",
        "version": 3
      },
      "file_extension": ".py",
      "mimetype": "text/x-python",
      "name": "python",
      "nbconvert_exporter": "python",
      "pygments_lexer": "ipython3",
      "version": "3.8.5"
    }
  },
  "nbformat": 4,
  "nbformat_minor": 0
}